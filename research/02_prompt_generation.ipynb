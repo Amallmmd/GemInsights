{
 "cells": [
  {
   "cell_type": "code",
   "execution_count": 1,
   "metadata": {},
   "outputs": [
    {
     "data": {
      "text/plain": [
       "'/home/izam/coding/hackathon'"
      ]
     },
     "execution_count": 1,
     "metadata": {},
     "output_type": "execute_result"
    }
   ],
   "source": [
    "import os\n",
    "os.chdir(\"../\")\n",
    "os.getcwd()"
   ]
  },
  {
   "cell_type": "code",
   "execution_count": 4,
   "metadata": {},
   "outputs": [],
   "source": [
    "from dataclasses import dataclass\n",
    "from pathlib import Path\n",
    "\n",
    "\n",
    "@dataclass(frozen=True)\n",
    "class PromptGenerationConfig:\n",
    "    root_dir: Path\n",
    "    data_path: Path\n",
    "    visualization_path: Path\n",
    "    data_information_file: Path"
   ]
  },
  {
   "cell_type": "code",
   "execution_count": 3,
   "metadata": {},
   "outputs": [],
   "source": [
    "from gemInsights.constants import *\n",
    "from gemInsights.utils.common import read_yaml, create_directories"
   ]
  },
  {
   "cell_type": "code",
   "execution_count": 5,
   "metadata": {},
   "outputs": [],
   "source": [
    "#udpate configuration manager\n",
    "class ConfigurationManager:\n",
    "    def __init__(\n",
    "        self,\n",
    "        config_filepath = CONFIG_FILE_PATH,\n",
    "        key_filepath = KEY_FILE_PATH):\n",
    "\n",
    "        self.config = read_yaml(config_filepath)\n",
    "        self.key = read_yaml(key_filepath)\n",
    "\n",
    "        create_directories([self.config.artifacts_root])\n",
    "\n",
    "\n",
    "    def get_prompt_generation_config(self) -> PromptGenerationConfig:\n",
    "        config = self.config.prompt_generation\n",
    "        \n",
    "        create_directories([config.root_dir])\n",
    "\n",
    "        prompt_generation_config = PromptGenerationConfig(\n",
    "            root_dir=config.root_dir,\n",
    "            data_path=config.data_path,\n",
    "            visualization_path=config.visualization_path,\n",
    "            data_information_file=config.data_information_file,\n",
    "        )\n",
    "\n",
    "        return prompt_generation_config"
   ]
  },
  {
   "cell_type": "code",
   "execution_count": 10,
   "metadata": {},
   "outputs": [],
   "source": [
    "import pandas as pd\n",
    "from gemInsights.utils.common import load_json\n",
    "import os\n",
    "import PIL.Image\n",
    "from gemInsights import logger"
   ]
  },
  {
   "cell_type": "code",
   "execution_count": 16,
   "metadata": {},
   "outputs": [],
   "source": [
    "class PromptGeneration:\n",
    "    def __init__(self, config: PromptGenerationConfig):\n",
    "        self.config = config\n",
    "\n",
    "    def generate(self):\n",
    "        df = pd.read_csv(self.config.data_path)\n",
    "        info_json = load_json(Path(self.config.data_information_file))\n",
    "        target_col = info_json.target_col\n",
    "        additional_info = info_json.additional_info\n",
    "        df_shape = df.shape\n",
    "        df_columns = list(df.columns)\n",
    "        df_describe = str(df.describe())+\"\\n\"+ str(df.describe(include=[\"O\"]))\n",
    "        main_prompt = \"Act as a data analyst. Here is the complete information and visualization images of a dataset. give valuable insights from the data point wise\"\n",
    "        images = []\n",
    "        image_dir = os.path.join(self.config.visualization_path, target_col)\n",
    "        image_files = os.listdir(image_dir)\n",
    "        for image_file in image_files:\n",
    "            image_path = os.path.join(image_dir, image_file)\n",
    "            img = PIL.Image.open(image_path)\n",
    "            images.append(img)\n",
    "\n",
    "        prompt = [\n",
    "            main_prompt,\n",
    "            f\"This is the target column of the dataset - '{target_col}'\",\n",
    "            f\"Here are some of the informations related to the dataset - '{additional_info}'\",\n",
    "            f\"The shape of the dataset is {df_shape}\",\n",
    "            f\"The columns in the dataset are {df_columns}\",\n",
    "            f\"Here are some of the general statistics related the dataset - {df_describe}\",\n",
    "        ]\n",
    "\n",
    "        result = prompt +images\n",
    "        return result"
   ]
  },
  {
   "cell_type": "code",
   "execution_count": 17,
   "metadata": {},
   "outputs": [
    {
     "name": "stdout",
     "output_type": "stream",
     "text": [
      "[2023-12-20 11:11:54,993: INFO: common: yaml file: config/config.yaml loaded successfully]\n",
      "[2023-12-20 11:11:54,994: INFO: common: yaml file: gemini_key.json loaded successfully]\n",
      "[2023-12-20 11:11:54,994: INFO: common: created directory at: artifacts]\n",
      "[2023-12-20 11:11:54,995: INFO: common: created directory at: artifacts/prompt_generation]\n",
      "[2023-12-20 11:11:55,002: INFO: common: json file loaded succesfully from: artifacts/data_ingestion/data_info.json]\n",
      "[2023-12-20 11:11:55,039: INFO: 1341583654: ['Act as a data analyst. Here is the complete information and visualization images of a dataset. give valuable insights from the data point wise', 'This is the target column of the dataset - Rating', 'Here are some of the informations related to the dataset - It is a sales data', 'The shape of the dataset is (1000, 19)', \"The columns in the dataset are ['Unnamed: 0.1', 'Unnamed: 0', 'Invoice ID', 'Branch', 'City', 'Customer type', 'Gender', 'Product line', 'Unit price', 'Quantity', 'Tax 5%', 'Total', 'Date', 'Time', 'Payment', 'cogs', 'gross margin percentage', 'gross income', 'Rating']\", 'Here are some of the general statistics related the dataset -        Unnamed: 0.1   Unnamed: 0   Unit price     Quantity       Tax 5%  \\\\\\ncount   1000.000000  1000.000000  1000.000000  1000.000000  1000.000000   \\nmean     499.500000   499.500000    55.672130     5.510000    15.379369   \\nstd      288.819436   288.819436    26.494628     2.923431    11.708825   \\nmin        0.000000     0.000000    10.080000     1.000000     0.508500   \\n25%      249.750000   249.750000    32.875000     3.000000     5.924875   \\n50%      499.500000   499.500000    55.230000     5.000000    12.088000   \\n75%      749.250000   749.250000    77.935000     8.000000    22.445250   \\nmax      999.000000   999.000000    99.960000    10.000000    49.650000   \\n\\n             Total        cogs  gross margin percentage  gross income  \\\\\\ncount  1000.000000  1000.00000              1000.000000   1000.000000   \\nmean    322.966749   307.58738                 4.761905     15.379369   \\nstd     245.885335   234.17651                 0.000000     11.708825   \\nmin      10.678500    10.17000                 4.761905      0.508500   \\n25%     124.422375   118.49750                 4.761905      5.924875   \\n50%     253.848000   241.76000                 4.761905     12.088000   \\n75%     471.350250   448.90500                 4.761905     22.445250   \\nmax    1042.650000   993.00000                 4.761905     49.650000   \\n\\n           Rating  \\ncount  1000.00000  \\nmean      6.97270  \\nstd       1.71858  \\nmin       4.00000  \\n25%       5.50000  \\n50%       7.00000  \\n75%       8.50000  \\nmax      10.00000  \\n         Invoice ID Branch    City Customer type  Gender         Product line  \\\\\\ncount          1000   1000    1000          1000    1000                 1000   \\nunique         1000      3       3             2       2                    6   \\ntop     750-67-8428      A  Yangon        Member  Female  Fashion accessories   \\nfreq              1    340     340           501     501                  178   \\n\\n            Date   Time  Payment  \\ncount       1000   1000     1000  \\nunique        89    506        3  \\ntop     2/7/2019  19:48  Ewallet  \\nfreq          20      7      345  ', <PIL.JpegImagePlugin.JpegImageFile image mode=RGB size=1500x2000 at 0x7FAE91F7CA30>, <PIL.JpegImagePlugin.JpegImageFile image mode=RGB size=1500x1200 at 0x7FAE91733DC0>, <PIL.JpegImagePlugin.JpegImageFile image mode=RGB size=2000x12000 at 0x7FAE9173F460>, <PIL.JpegImagePlugin.JpegImageFile image mode=RGB size=1500x3000 at 0x7FAE9173F550>, <PIL.JpegImagePlugin.JpegImageFile image mode=RGB size=1500x400 at 0x7FAE9173F5E0>, <PIL.JpegImagePlugin.JpegImageFile image mode=RGB size=1500x2000 at 0x7FAE9173F640>, <PIL.JpegImagePlugin.JpegImageFile image mode=RGB size=2000x1400 at 0x7FAE9173F6A0>]]\n"
     ]
    }
   ],
   "source": [
    "try:\n",
    "    config = ConfigurationManager()\n",
    "    prompt_generation_config = config.get_prompt_generation_config()\n",
    "    prompt_generation = PromptGeneration(config=prompt_generation_config)\n",
    "    logger.info(prompt_generation.generate())\n",
    "except Exception as e:\n",
    "    raise e"
   ]
  },
  {
   "cell_type": "code",
   "execution_count": null,
   "metadata": {},
   "outputs": [],
   "source": []
  }
 ],
 "metadata": {
  "kernelspec": {
   "display_name": "hola",
   "language": "python",
   "name": "python3"
  },
  "language_info": {
   "codemirror_mode": {
    "name": "ipython",
    "version": 3
   },
   "file_extension": ".py",
   "mimetype": "text/x-python",
   "name": "python",
   "nbconvert_exporter": "python",
   "pygments_lexer": "ipython3",
   "version": "3.8.18"
  }
 },
 "nbformat": 4,
 "nbformat_minor": 2
}
