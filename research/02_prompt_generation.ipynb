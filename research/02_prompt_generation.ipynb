{
 "cells": [
  {
   "cell_type": "code",
   "execution_count": 1,
   "metadata": {},
   "outputs": [
    {
     "data": {
      "text/plain": [
       "'/home/izam/coding/hackathon'"
      ]
     },
     "execution_count": 1,
     "metadata": {},
     "output_type": "execute_result"
    }
   ],
   "source": [
    "import os\n",
    "os.chdir(\"../\")\n",
    "os.getcwd()"
   ]
  },
  {
   "cell_type": "code",
   "execution_count": 2,
   "metadata": {},
   "outputs": [],
   "source": [
    "from dataclasses import dataclass\n",
    "from pathlib import Path\n",
    "\n",
    "\n",
    "@dataclass(frozen=True)\n",
    "class PromptGenerationConfig:\n",
    "    root_dir: Path\n",
    "    data_path: Path\n",
    "    visualization_path: Path\n",
    "    data_information_file: Path\n",
    "    prompt_file_name: str"
   ]
  },
  {
   "cell_type": "code",
   "execution_count": 3,
   "metadata": {},
   "outputs": [],
   "source": [
    "from gemInsights.constants import *\n",
    "from gemInsights.utils.common import read_yaml, create_directories"
   ]
  },
  {
   "cell_type": "code",
   "execution_count": 4,
   "metadata": {},
   "outputs": [],
   "source": [
    "#udpate configuration manager\n",
    "class ConfigurationManager:\n",
    "    def __init__(\n",
    "        self,\n",
    "        config_filepath = CONFIG_FILE_PATH\n",
    "        ):\n",
    "\n",
    "        self.config = read_yaml(config_filepath)\n",
    "\n",
    "        create_directories([self.config.artifacts_root])\n",
    "\n",
    "\n",
    "    def get_prompt_generation_config(self) -> PromptGenerationConfig:\n",
    "        config = self.config.prompt_generation\n",
    "        \n",
    "        create_directories([config.root_dir])\n",
    "\n",
    "        prompt_generation_config = PromptGenerationConfig(\n",
    "            root_dir=config.root_dir,\n",
    "            data_path=config.data_path,\n",
    "            visualization_path=config.visualization_path,\n",
    "            data_information_file=config.data_information_file,\n",
    "            prompt_file_name=config.prompt_file_name,\n",
    "        )\n",
    "\n",
    "        return prompt_generation_config"
   ]
  },
  {
   "cell_type": "code",
   "execution_count": 5,
   "metadata": {},
   "outputs": [],
   "source": [
    "import pandas as pd\n",
    "from gemInsights.utils.common import load_json, save_bin\n",
    "import os\n",
    "import base64\n",
    "from gemInsights import logger\n",
    "from vertexai.preview.generative_models import Part"
   ]
  },
  {
   "cell_type": "code",
   "execution_count": 6,
   "metadata": {},
   "outputs": [],
   "source": [
    "class PromptGeneration:\n",
    "    def __init__(self, config: PromptGenerationConfig):\n",
    "        self.config = config\n",
    "\n",
    "    def generate(self):\n",
    "        df = pd.read_csv(self.config.data_path)\n",
    "        info_json = load_json(Path(self.config.data_information_file))\n",
    "        target_col = info_json.target_col\n",
    "        # additional_info = info_json.additional_info\n",
    "        # df_shape = df.shape\n",
    "        # df_columns = list(df.columns)\n",
    "        # df_describe = str(df.describe())+\"\\n\"+ str(df.describe(include=[\"O\"]))\n",
    "        main_prompt = \"Act as a data analyst. Here is the complete information and visualization images of a dataset. give valuable insights from the data point wise\"\n",
    "        images = []\n",
    "        image_dir = os.path.join(self.config.visualization_path, target_col)\n",
    "        image_files = os.listdir(image_dir)\n",
    "        for image_file in image_files:\n",
    "            image_path = os.path.join(image_dir, image_file)\n",
    "            img = open(image_path, \"rb\").read()\n",
    "            img_bytes = Part.from_data(base64.b64decode(base64.encodebytes(img)), mime_type=\"image/jpeg\")\n",
    "            logger.info(f\"added the image - {image_file}\")\n",
    "            images.append(img_bytes)\n",
    "\n",
    "        prompt = [\n",
    "            main_prompt,\n",
    "            # f\"This is the target column of the dataset - '{target_col}'\",\n",
    "            # f\"Here are some of the informations related to the dataset - '{additional_info}'\",\n",
    "            # f\"The shape of the dataset is {df_shape}\",\n",
    "            # f\"The columns in the dataset are {df_columns}\",\n",
    "            # f\"Here are some of the general statistics related the dataset - {df_describe}\",\n",
    "        ]\n",
    "\n",
    "        result = prompt +images\n",
    "\n",
    "        save_bin(data=result, path=Path(os.path.join(self.config.root_dir, self.config.prompt_file_name)))\n",
    "        \n",
    "        "
   ]
  },
  {
   "cell_type": "code",
   "execution_count": 7,
   "metadata": {},
   "outputs": [
    {
     "name": "stdout",
     "output_type": "stream",
     "text": [
      "[2023-12-21 13:42:59,579: INFO: common: yaml file: config/config.yaml loaded successfully]\n",
      "[2023-12-21 13:42:59,580: INFO: common: created directory at: artifacts]\n",
      "[2023-12-21 13:42:59,581: INFO: common: created directory at: artifacts/prompt_generation]\n",
      "[2023-12-21 13:42:59,585: INFO: common: json file loaded succesfully from: artifacts/data_ingestion/data_info.json]\n",
      "[2023-12-21 13:42:59,588: INFO: 2811190944: added the image - Dist_Plots_Numerics.jpg]\n",
      "[2023-12-21 13:42:59,589: INFO: 2811190944: added the image - Scatter_Plots.jpg]\n",
      "[2023-12-21 13:42:59,590: INFO: 2811190944: added the image - Box_Plots.jpg]\n",
      "[2023-12-21 13:42:59,593: INFO: 2811190944: added the image - Bar_Plots.jpg]\n",
      "[2023-12-21 13:42:59,595: INFO: 2811190944: added the image - Pair_Scatter_Plots.jpg]\n",
      "[2023-12-21 13:42:59,596: INFO: 2811190944: added the image - Dist_Plots_target.jpg]\n",
      "[2023-12-21 13:42:59,599: INFO: common: binary file saved at: artifacts/prompt_generation/prompt.joblib]\n"
     ]
    }
   ],
   "source": [
    "try:\n",
    "    config = ConfigurationManager()\n",
    "    prompt_generation_config = config.get_prompt_generation_config()\n",
    "    prompt_generation = PromptGeneration(config=prompt_generation_config)\n",
    "    prompt_generation.generate()\n",
    "except Exception as e:\n",
    "    raise e"
   ]
  },
  {
   "cell_type": "code",
   "execution_count": null,
   "metadata": {},
   "outputs": [],
   "source": []
  }
 ],
 "metadata": {
  "kernelspec": {
   "display_name": "hola",
   "language": "python",
   "name": "python3"
  },
  "language_info": {
   "codemirror_mode": {
    "name": "ipython",
    "version": 3
   },
   "file_extension": ".py",
   "mimetype": "text/x-python",
   "name": "python",
   "nbconvert_exporter": "python",
   "pygments_lexer": "ipython3",
   "version": "3.11.5"
  }
 },
 "nbformat": 4,
 "nbformat_minor": 2
}
