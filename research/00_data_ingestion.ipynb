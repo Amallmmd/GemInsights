{
 "cells": [
  {
   "cell_type": "code",
   "execution_count": 1,
   "metadata": {},
   "outputs": [
    {
     "data": {
      "text/plain": [
       "'/home/izam/coding/hackathon'"
      ]
     },
     "execution_count": 1,
     "metadata": {},
     "output_type": "execute_result"
    }
   ],
   "source": [
    "import os\n",
    "os.chdir(\"../\")\n",
    "os.getcwd()"
   ]
  },
  {
   "cell_type": "code",
   "execution_count": 2,
   "metadata": {},
   "outputs": [],
   "source": [
    "from dataclasses import dataclass\n",
    "from pathlib import Path\n",
    "\n",
    "\n",
    "@dataclass(frozen=True)\n",
    "class DataIngestionConfig:\n",
    "    root_dir: Path\n",
    "    source_data_file: Path\n",
    "    source_info_file: Path\n",
    "    local_data_name: str"
   ]
  },
  {
   "cell_type": "code",
   "execution_count": 3,
   "metadata": {},
   "outputs": [],
   "source": [
    "from gemInsights.constants import *\n",
    "from gemInsights.utils.common import read_yaml, create_directories"
   ]
  },
  {
   "cell_type": "code",
   "execution_count": 4,
   "metadata": {},
   "outputs": [],
   "source": [
    "#udpate configuration manager\n",
    "class ConfigurationManager:\n",
    "    def __init__(\n",
    "        self,\n",
    "        config_filepath = CONFIG_FILE_PATH,\n",
    "        credentials_file_path = CREDENTIALS_FILE_PATH,\n",
    "        params_file_path = PARAMS_FILE_PATH):\n",
    "\n",
    "        self.config = read_yaml(config_filepath)\n",
    "        self.credentials = credentials_file_path\n",
    "        self.params = read_yaml(params_file_path)\n",
    "\n",
    "        create_directories([self.config.artifacts_root])\n",
    "\n",
    "\n",
    "    \n",
    "    def get_data_ingestion_config(self) -> DataIngestionConfig:\n",
    "        config = self.config.data_ingestion\n",
    "\n",
    "        create_directories([config.root_dir])\n",
    "\n",
    "        data_ingestion_config = DataIngestionConfig(\n",
    "            root_dir=config.root_dir,\n",
    "            source_data_file=config.source_data_file,\n",
    "            source_info_file=config.source_info_file,\n",
    "            local_data_name=config.local_data_name,\n",
    "        )\n",
    "\n",
    "        return data_ingestion_config"
   ]
  },
  {
   "cell_type": "code",
   "execution_count": 5,
   "metadata": {},
   "outputs": [],
   "source": [
    "import os\n",
    "from gemInsights import logger\n",
    "import pandas as pd\n",
    "from gemInsights.utils.common import load_json, save_json"
   ]
  },
  {
   "cell_type": "code",
   "execution_count": 6,
   "metadata": {},
   "outputs": [],
   "source": [
    "# components\n",
    "class DataIngestion:\n",
    "    def __init__(self, config: DataIngestionConfig):\n",
    "        self.config = config\n",
    "\n",
    "    def load_data(self):\n",
    "        data_path = Path(self.config.source_data_file)\n",
    "        df = pd.read_csv(data_path)\n",
    "        logger.info(f\"loaded the dataframe with shape {df.shape}\")\n",
    "\n",
    "        df.to_csv(os.path.join(self.config.root_dir, self.config.local_data_name))\n",
    "        logger.info(f\"saved the data in {os.path.join(self.config.root_dir, self.config.local_data_name)}\")\n",
    "\n",
    "    def load_info(self):\n",
    "        json_file = load_json(path=Path(self.config.source_info_file))\n",
    "        data_name, _ = os.path.splitext(self.config.local_data_name)\n",
    "        save_json(path=Path(os.path.join(self.config.root_dir, data_name+\"_info.json\")), data=json_file)\n",
    "\n",
    "    def store_data(self):\n",
    "        \"\"\"\n",
    "        code for store the data into the cloud\n",
    "        \"\"\""
   ]
  },
  {
   "cell_type": "code",
   "execution_count": 7,
   "metadata": {},
   "outputs": [
    {
     "name": "stdout",
     "output_type": "stream",
     "text": [
      "[2023-12-21 13:24:17,901: INFO: common: yaml file: config/config.yaml loaded successfully]\n",
      "[2023-12-21 13:24:17,903: INFO: common: yaml file: params.yaml loaded successfully]\n",
      "[2023-12-21 13:24:17,903: INFO: common: created directory at: artifacts]\n",
      "[2023-12-21 13:24:17,904: INFO: common: created directory at: artifacts/data_ingestion]\n",
      "[2023-12-21 13:24:17,908: INFO: 1086895689: loaded the dataframe with shape (891, 12)]\n",
      "[2023-12-21 13:24:17,914: INFO: 1086895689: saved the data in artifacts/data_ingestion/data.csv]\n",
      "[2023-12-21 13:24:17,915: INFO: common: json file loaded succesfully from: streamlit_files/additional_data.json]\n",
      "[2023-12-21 13:24:17,915: INFO: common: json file saved at: artifacts/data_ingestion/data_info.json]\n"
     ]
    }
   ],
   "source": [
    "try:\n",
    "    config = ConfigurationManager()\n",
    "    data_ingestion_config = config.get_data_ingestion_config()\n",
    "    data_ingestion = DataIngestion(config=data_ingestion_config)\n",
    "    data_ingestion.load_data()\n",
    "    data_ingestion.load_info()\n",
    "    data_ingestion.store_data()\n",
    "except Exception as e:\n",
    "    raise e"
   ]
  },
  {
   "cell_type": "code",
   "execution_count": null,
   "metadata": {},
   "outputs": [],
   "source": []
  }
 ],
 "metadata": {
  "kernelspec": {
   "display_name": "hola",
   "language": "python",
   "name": "python3"
  },
  "language_info": {
   "codemirror_mode": {
    "name": "ipython",
    "version": 3
   },
   "file_extension": ".py",
   "mimetype": "text/x-python",
   "name": "python",
   "nbconvert_exporter": "python",
   "pygments_lexer": "ipython3",
   "version": "3.8.18"
  }
 },
 "nbformat": 4,
 "nbformat_minor": 2
}
