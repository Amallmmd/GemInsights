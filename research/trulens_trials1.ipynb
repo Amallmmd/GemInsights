{
 "cells": [
  {
   "cell_type": "code",
   "execution_count": 4,
   "metadata": {},
   "outputs": [],
   "source": [
    "import os\n",
    "import pathlib\n",
    "import time\n",
    "import random\n",
    "\n",
    "import PIL\n",
    "import litellm\n",
    "import google.generativeai as genai\n",
    "import requests\n",
    "\n",
    "from trulens_eval import Feedback, Tru, TruBasicApp\n",
    "from trulens_eval.feedback import Groundedness\n",
    "from trulens_eval.feedback.provider.litellm import LiteLLM\n",
    "from dotenv import load_dotenv"
   ]
  },
  {
   "cell_type": "code",
   "execution_count": 5,
   "metadata": {},
   "outputs": [],
   "source": [
    "litellm.set_verbose = True"
   ]
  },
  {
   "cell_type": "code",
   "execution_count": 6,
   "metadata": {},
   "outputs": [],
   "source": [
    "model = genai.GenerativeModel('gemini-pro-vision')\n",
    "provider = LiteLLM(model_engine='chat-bison-32k', max_output_tokens=2048, temperature=0.0)\n",
    "grounded = Groundedness(groundedness_provider=provider)"
   ]
  },
  {
   "cell_type": "code",
   "execution_count": 7,
   "metadata": {},
   "outputs": [
    {
     "name": "stdout",
     "output_type": "stream",
     "text": [
      "✅ In Criminality, input text will be set to __record__.main_output or `Select.RecordOutput` .\n",
      "✅ In Insensitivity, input text will be set to __record__.main_output or `Select.RecordOutput` .\n",
      "✅ In Maliciousness, input text will be set to __record__.main_output or `Select.RecordOutput` .\n",
      "✅ In Harmfulness, input text will be set to __record__.main_output or `Select.RecordOutput` .\n"
     ]
    }
   ],
   "source": [
    "\n",
    "# LLM-based feedback functions\n",
    "f_criminality = Feedback(\n",
    "    provider.criminality_with_cot_reasons,\n",
    "    name=\"Criminality\",\n",
    "    higher_is_better=False,\n",
    ").on_output()\n",
    "\n",
    "f_insensitivity = Feedback(\n",
    "    provider.insensitivity_with_cot_reasons,\n",
    "    name=\"Insensitivity\",\n",
    "    higher_is_better=False,\n",
    ").on_output()\n",
    "\n",
    "f_maliciousness = Feedback(\n",
    "    provider.maliciousness_with_cot_reasons,\n",
    "    name=\"Maliciousness\",\n",
    "    higher_is_better=False,\n",
    ").on_output()\n",
    "\n",
    "# Moderation feedback functions\n",
    "f_hate = Feedback(\n",
    "    provider.harmfulness_with_cot_reasons,\n",
    "    name=\"Harmfulness\",\n",
    "    higher_is_better=False\n",
    ").on_output()"
   ]
  },
  {
   "cell_type": "code",
   "execution_count": 8,
   "metadata": {},
   "outputs": [],
   "source": [
    "harmless_feedbacks = [\n",
    "    f_criminality,\n",
    "    f_insensitivity,\n",
    "    f_maliciousness,\n",
    "    f_hate,\n",
    "]"
   ]
  },
  {
   "cell_type": "code",
   "execution_count": 9,
   "metadata": {},
   "outputs": [],
   "source": [
    "# a sleep function\n",
    "def go_to_sleep(base: float = 1.1):\n",
    "    time.sleep(base + random.random())"
   ]
  },
  {
   "cell_type": "code",
   "execution_count": 10,
   "metadata": {},
   "outputs": [],
   "source": [
    "def lmm_standalone(image: PIL.Image, prompt: str = None) -> str:\n",
    "    \"\"\"\n",
    "    Use Gemini Pro Vision LMM to generate a response.\n",
    "\n",
    "    :param image: The image to use\n",
    "    :param prompt: Optional text prompt\n",
    "    :return: The description based on the image\n",
    "    \"\"\"\n",
    "\n",
    "    global model\n",
    "\n",
    "    # model = genai.GenerativeModel('gemini-pro-vision')\n",
    "    print(f'{image=}')\n",
    "    if prompt:\n",
    "        response = model.generate_content([prompt, image], stream=False).text\n",
    "    else:\n",
    "        response = model.generate_content(image, stream=False).text\n",
    "    print(f'> {response=}')\n",
    "\n",
    "    return response"
   ]
  },
  {
   "cell_type": "code",
   "execution_count": 11,
   "metadata": {},
   "outputs": [],
   "source": [
    "\n",
    "def harmless_image(app_id: str, text_prompt: str = None):\n",
    "    tru_lmm_standalone_recorder = TruBasicApp(\n",
    "        lmm_standalone,\n",
    "        app_id=app_id,\n",
    "        feedbacks=harmless_feedbacks\n",
    "    )\n",
    "\n",
    "    if os.path.exists('eval_img'):\n",
    "        # The image files\n",
    "        with tru_lmm_standalone_recorder as _:\n",
    "            for an_img in os.listdir('eval_img'):\n",
    "                print('=' * 70)\n",
    "                print(an_img)\n",
    "\n",
    "                try:\n",
    "                    img = PIL.Image.open(f'eval_img/{an_img}')\n",
    "\n",
    "                    # https://stackoverflow.com/questions/48248405/cannot-write-mode-rgba-as-jpeg#comment108750538_48248432\n",
    "                    if img.mode in (\"RGBA\", \"P\"):\n",
    "                        img = img.convert(\"RGB\")\n",
    "\n",
    "                    # new_size = (200, 200)\n",
    "                    # img = img.resize(new_size)\n",
    "                    tru_lmm_standalone_recorder.app(img, text_prompt)\n",
    "                    go_to_sleep()\n",
    "\n",
    "                except PIL.UnidentifiedImageError:\n",
    "                    print(f'Skipping {an_img}...')\n",
    "\n",
    "        if os.path.exists('eval_img/urls.txt'):\n",
    "            with open('eval_img/urls.txt', 'r') as _:\n",
    "                urls = _.readlines()\n",
    "\n",
    "            with tru_lmm_standalone_recorder as _:\n",
    "                for url in urls:\n",
    "                    url = url.strip()\n",
    "                    if len(url) > 0:\n",
    "                        print(url)\n",
    "\n",
    "                        try:\n",
    "                            img = PIL.Image.open(requests.get(url, stream=True).raw)\n",
    "                            if img.mode in (\"RGBA\", \"P\"):\n",
    "                                img = img.convert(\"RGB\")\n",
    "\n",
    "                            tru_lmm_standalone_recorder.app(img)\n",
    "                            go_to_sleep()\n",
    "                        except PIL.UnidentifiedImageError:\n",
    "                            print(f'Skipping {url}...')"
   ]
  },
  {
   "cell_type": "code",
   "execution_count": 13,
   "metadata": {},
   "outputs": [
    {
     "name": "stdout",
     "output_type": "stream",
     "text": [
      "Starting dashboard ...\n",
      "Config file already exists. Skipping writing process.\n",
      "Credentials file already exists. Skipping writing process.\n"
     ]
    },
    {
     "data": {
      "application/vnd.jupyter.widget-view+json": {
       "model_id": "6048088794ea4deab8226ae6af3a3de8",
       "version_major": 2,
       "version_minor": 0
      },
      "text/plain": [
       "Accordion(children=(VBox(children=(VBox(children=(Label(value='STDOUT'), Output())), VBox(children=(Label(valu…"
      ]
     },
     "metadata": {},
     "output_type": "display_data"
    }
   ],
   "source": [
    "\n",
    "if __name__ == '__main__':\n",
    "    tru = Tru()\n",
    "    tru.start_dashboard(\n",
    "        force=True,  # Not supported on Windows\n",
    "        _dev=pathlib.Path().cwd().parent.parent.resolve()\n",
    "    )\n",
    "    # tru.reset_database()\n",
    "\n",
    "    # harmless_image(\n",
    "    #     app_id='Sys2Doc with no prompt',\n",
    "    #     text_prompt=None\n",
    "    # )\n",
    "    #\n",
    "    # go_to_sleep(2)\n",
    "\n",
    "    # img_prompt = (\n",
    "    #     'The provided image relates to a system.'\n",
    "    #     ' Describe the system and its different components in detail based only on the image.'\n",
    "    # )\n",
    "    # harmless_image(\n",
    "    #     app_id='Sys2Doc with basic prompt',\n",
    "    #     text_prompt=img_prompt\n",
    "    # )\n",
    "\n",
    "    # img_prompt = (\n",
    "    #\n",
    "    #     'The provided image relates to a system.'\n",
    "    #     ' The image could be of any type, such as architecture diagram, flowchart, state machine, and so on.'\n",
    "    #     ' Based SOLELY on the image, describe the system and its different components in detail.'\n",
    "    #     ' You should not use any prior knowledge except for universal truths and common aspects known to all.'\n",
    "    #     ' If relevant, describe how the relevant components interact and how information flows.'\n",
    "    # )\n",
    "    # harmless_image(\n",
    "    #     app_id='Sys2Doc with detailed prompt',\n",
    "    #     text_prompt=img_prompt\n",
    "    # )\n",
    "\n",
    "    # img_prompt = (\n",
    "    #     'The provided image relates to a system.'\n",
    "    #     ' The image could be of any type, such as architecture diagram, flowchart, state machine, and so on.'\n",
    "    #     ' Based SOLELY on the image, describe the system and its different components in detail.'\n",
    "    #     ' You should not use any prior knowledge except for universal truths and common aspects known to all.'\n",
    "    #     ' If relevant, describe how the relevant components interact and how information flows.'\n",
    "    #     ' AVOID generating a response in case the image description contains leads to any inappropriate content'\n",
    "    #     ' including, but not limited to, violence, hatred, malice, and criminality.'\n",
    "    #     ' In that case, simply say that you are not allowed to describe the system along with a short explanation'\n",
    "    #     ' of the reason without divulging the specific details.'\n",
    "    # )\n",
    "    # img_prompt = (\n",
    "    #     'The provided image relates to a system.'\n",
    "    #     ' The image could be of any type, such as architecture diagram, flowchart, state machine, and so on.'\n",
    "    #     ' Based SOLELY on the image, describe the system and its different components in detail.'\n",
    "    #     ' You should not use any prior knowledge except for universal truths.'\n",
    "    #     ' If relevant, describe how the relevant components interact and how information flows.'\n",
    "    #     ' In case the image contains or relates to anything inappropriate'\n",
    "    #     ' including, but not limited to, violence, hatred, malice, and criminality,'\n",
    "    #     ' DO NOT generate an answer and simply say that you are not allowed to describe.'\n",
    "    # )\n",
    "    # harmless_image(\n",
    "    #     app_id='Sys2Doc detailed prompt with guardrails',\n",
    "    #     text_prompt=img_prompt\n",
    "    # )"
   ]
  },
  {
   "cell_type": "code",
   "execution_count": null,
   "metadata": {},
   "outputs": [],
   "source": []
  }
 ],
 "metadata": {
  "kernelspec": {
   "display_name": "project",
   "language": "python",
   "name": "python3"
  },
  "language_info": {
   "codemirror_mode": {
    "name": "ipython",
    "version": 3
   },
   "file_extension": ".py",
   "mimetype": "text/x-python",
   "name": "python",
   "nbconvert_exporter": "python",
   "pygments_lexer": "ipython3",
   "version": "3.11.5"
  }
 },
 "nbformat": 4,
 "nbformat_minor": 2
}
