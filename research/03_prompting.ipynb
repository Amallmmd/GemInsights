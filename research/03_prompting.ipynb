{
 "cells": [
  {
   "cell_type": "code",
   "execution_count": 1,
   "metadata": {},
   "outputs": [
    {
     "data": {
      "text/plain": [
       "'/home/izam/coding/GemInsights'"
      ]
     },
     "execution_count": 1,
     "metadata": {},
     "output_type": "execute_result"
    }
   ],
   "source": [
    "import os\n",
    "os.chdir(\"../\")\n",
    "os.getcwd()"
   ]
  },
  {
   "cell_type": "code",
   "execution_count": 2,
   "metadata": {},
   "outputs": [],
   "source": [
    "from dataclasses import dataclass\n",
    "from pathlib import Path\n",
    "\n",
    "\n",
    "@dataclass(frozen=True)\n",
    "class PromptingConfig:\n",
    "    root_dir: Path\n",
    "    model_name: str\n",
    "    response_file_name: str\n",
    "    candidates_file_name: str\n",
    "    credentials: Path\n",
    "    generation_config: dict\n",
    "    project_name: str\n",
    "    project_location: str\n",
    "    prompt_file_path: Path\n",
    "\n",
    "    images_file_path: Path\n",
    "    trulens_db_name: str\n",
    "    "
   ]
  },
  {
   "cell_type": "code",
   "execution_count": 3,
   "metadata": {},
   "outputs": [],
   "source": [
    "from gemInsights.constants import *\n",
    "from gemInsights.utils.common import read_yaml, create_directories, load_json"
   ]
  },
  {
   "cell_type": "code",
   "execution_count": 4,
   "metadata": {},
   "outputs": [],
   "source": [
    "#udpate configuration manager\n",
    "class ConfigurationManager:\n",
    "    def __init__(\n",
    "        self,\n",
    "        config_filepath = CONFIG_FILE_PATH,\n",
    "        credentials_file_path = CREDENTIALS_FILE_PATH,\n",
    "        params_file_path = PARAMS_FILE_PATH):\n",
    "\n",
    "        self.config = read_yaml(config_filepath)\n",
    "        self.credentials = credentials_file_path\n",
    "        self.params = read_yaml(params_file_path)\n",
    "\n",
    "        create_directories([self.config.artifacts_root])\n",
    "\n",
    "\n",
    "    def get_promting_config(self) -> PromptingConfig:\n",
    "        config = self.config.prompting\n",
    "        \n",
    "        create_directories([config.root_dir])\n",
    "\n",
    "        prompting_config = PromptingConfig(\n",
    "            root_dir=config.root_dir,\n",
    "            model_name=config.model_name, \n",
    "            response_file_name=config.response_file_name,\n",
    "            candidates_file_name=config.candidates_file_name,\n",
    "            credentials=self.credentials,\n",
    "            generation_config=dict(self.params.generation_config),\n",
    "            project_name=config.project_name,\n",
    "            project_location=config.project_location,\n",
    "            prompt_file_path=config.prompt_file_path,\n",
    "            images_file_path=config.images_file_path,\n",
    "            trulens_db_name=config.trulens_db_name,\n",
    "        )\n",
    "\n",
    "        return prompting_config"
   ]
  },
  {
   "cell_type": "code",
   "execution_count": 5,
   "metadata": {},
   "outputs": [],
   "source": [
    "from google.cloud import aiplatform\n",
    "from gemInsights import logger\n",
    "import os\n",
    "import base64\n",
    "import vertexai\n",
    "from vertexai.preview.generative_models import GenerativeModel, Part\n",
    "from gemInsights.utils.common import load_json, save_json, load_bin, read_text\n",
    "from trulens_eval import Feedback, Tru, LiteLLM, Huggingface, TruBasicApp"
   ]
  },
  {
   "cell_type": "code",
   "execution_count": 6,
   "metadata": {},
   "outputs": [],
   "source": [
    "class Prompting:\n",
    "    def __init__(self, config: PromptingConfig):\n",
    "        self.config = config\n",
    "\n",
    "    def _setup_env(self):\n",
    "        tru = Tru(database_file=self.config.trulens_db_name)\n",
    "        tru.reset_database()\n",
    "        logger.info(f\"initialized trulens with db - {self.config.trulens_db_name}\")\n",
    "\n",
    "        aiplatform.init(\n",
    "            project = self.config.project_name,\n",
    "            location= self.config.project_location,\n",
    "        )\n",
    "        logger.info(f\"Google cloud project name - {self.config.project_name}\")\n",
    "        \n",
    "        os.environ[\"GOOGLE_APPLICATION_CREDENTIALS\"] = self.config.credentials\n",
    "        logger.info(\"loaded the google cloud credentials\")\n",
    "\n",
    "        self.model = GenerativeModel(self.config.model_name)\n",
    "        logger.info(f\"using the model - {self.config.model_name}\")\n",
    "\n",
    "        hugs = Huggingface()\n",
    "        self.f_sentiment = Feedback(hugs.positive_sentiment).on_output()\n",
    "        logger.info(f\"initialized huggingface based sentiment feedback\")\n",
    "\n",
    "    def _initiate_data(self):\n",
    "        print(f\"{self.config.prompt_file_path}\")\n",
    "        self.prompt = read_text(Path(self.config.prompt_file_path))\n",
    "        self.images = load_bin(Path(self.config.images_file_path))\n",
    "\n",
    "\n",
    "    def get_response(self):\n",
    "        self._setup_env()\n",
    "        self._initiate_data()\n",
    "        \n",
    "        model = self.model\n",
    "        images = self.images\n",
    "        logger.info(type(self.images))\n",
    "        configuration = self.config.generation_config\n",
    "\n",
    "        def _llm_standalone(prompt):\n",
    "            return model.generate_content(\n",
    "                [prompt]+images , generation_config=configuration).text\n",
    "        \n",
    "        tru_app_recorder = TruBasicApp(_llm_standalone, app_id=\"Sentiment bot\", feedbacks=[self.f_sentiment])\n",
    "        logger.info(\"created the basic recorder app\")\n",
    "\n",
    "        logger.info(f\"generating response with config - {self.config.generation_config}\")\n",
    "        with tru_app_recorder as records:\n",
    "            response = tru_app_recorder.app(\"generate something\")\n",
    "        \n",
    "        save_json(path=os.path.join(self.config.root_dir, self.config.response_file_name), data={\"response\": response})\n",
    "        logger.info(response)"
   ]
  },
  {
   "cell_type": "code",
   "execution_count": null,
   "metadata": {},
   "outputs": [
    {
     "name": "stdout",
     "output_type": "stream",
     "text": [
      "[2023-12-22 01:50:55,228: INFO: common: yaml file: config/config.yaml loaded successfully]\n",
      "[2023-12-22 01:50:55,229: INFO: common: yaml file: params.yaml loaded successfully]\n",
      "[2023-12-22 01:50:55,229: INFO: common: created directory at: artifacts]\n",
      "[2023-12-22 01:50:55,230: INFO: common: created directory at: artifacts/prompting]\n",
      "🦑 Tru initialized with db url sqlite:///gemInsights.sqlite .\n",
      "🛑 Secret keys may be written to the database. See the `database_redact_keys` option of `Tru` to prevent this.\n",
      "[2023-12-22 01:50:55,237: INFO: migration: Context impl SQLiteImpl.]\n",
      "[2023-12-22 01:50:55,238: INFO: migration: Will assume non-transactional DDL.]\n",
      "[2023-12-22 01:50:55,250: INFO: sqlalchemy_db: Deleted 2 rows.]\n",
      "[2023-12-22 01:50:55,251: INFO: 948873657: initialized trulens with db - gemInsights.sqlite]\n",
      "[2023-12-22 01:50:55,251: INFO: 948873657: Google cloud project name - ultra-heading-407815]\n",
      "[2023-12-22 01:50:55,252: INFO: 948873657: loaded the google cloud credentials]\n",
      "[2023-12-22 01:50:55,252: INFO: 948873657: using the model - gemini-pro-vision]\n",
      "✅ In positive_sentiment, input text will be set to __record__.main_output or `Select.RecordOutput` .\n",
      "[2023-12-22 01:50:55,308: INFO: 948873657: initialized huggingface based sentiment feedback]\n",
      "artifacts/prompt_generation/prompt.txt\n",
      "[2023-12-22 01:50:55,309: INFO: common: text file loaded from: artifacts/prompt_generation/prompt.txt]\n",
      "[2023-12-22 01:50:55,311: INFO: common: binary file loaded from: artifacts/prompt_generation/images.joblib]\n",
      "[2023-12-22 01:50:55,311: INFO: 948873657: <class 'list'>]\n",
      "[2023-12-22 01:50:55,314: INFO: migration: Context impl SQLiteImpl.]\n",
      "[2023-12-22 01:50:55,315: INFO: migration: Will assume non-transactional DDL.]\n",
      "[2023-12-22 01:50:55,329: INFO: sqlalchemy_db: ✅ added app Sentiment bot]\n",
      "[2023-12-22 01:50:55,333: INFO: migration: Context impl SQLiteImpl.]\n",
      "[2023-12-22 01:50:55,333: INFO: migration: Will assume non-transactional DDL.]\n",
      "[2023-12-22 01:50:55,342: INFO: sqlalchemy_db: ✅ added feedback definition feedback_definition_hash_c753c4283f53dcec814d57c8a587a4c4]\n",
      "[2023-12-22 01:50:55,345: INFO: 948873657: created the basic recorder app]\n",
      "[2023-12-22 01:50:55,345: INFO: 948873657: generating response with config - {'max_output_tokens': 2048, 'temperature': 0.4, 'top_p': 1, 'top_k': 32}]\n"
     ]
    },
    {
     "name": "stderr",
     "output_type": "stream",
     "text": [
      "/tmp/ipykernel_97649/948873657.py:6: DeprecationWarning: `database_file` is deprecated, use `database_url` instead as in `database_url='sqlite:///filename'.\n",
      "  tru = Tru(database_file=self.config.trulens_db_name)\n"
     ]
    },
    {
     "name": "stdout",
     "output_type": "stream",
     "text": [
      "[2023-12-22 01:51:14,410: INFO: migration: Context impl SQLiteImpl.]\n",
      "[2023-12-22 01:51:14,411: INFO: migration: Will assume non-transactional DDL.]\n",
      "[2023-12-22 01:51:14,416: INFO: sqlalchemy_db: ✅ added record record_hash_7950c362e1eeeee2f9c47d0620abc2c5]\n",
      "[2023-12-22 01:51:14,426: INFO: migration: Context impl SQLiteImpl.]\n",
      "[2023-12-22 01:51:14,426: INFO: migration: Will assume non-transactional DDL.]\n",
      "[2023-12-22 01:51:14,479: INFO: common: json file saved at: artifacts/prompting/response.json]\n",
      "[2023-12-22 01:51:14,481: INFO: 948873657:  The first graph shows a scatter plot of the churn rate vs monthly charges. It is difficult to see a clear pattern in this graph, although it does appear that there may be a positive correlation between the two variables. The second graph shows box plots of the churn rate vs monthly charges. This graph shows that the churn rate is higher for customers with higher monthly charges. The third graph shows a bar chart of the average monthly charges for customers who churned vs. those who did not churn. This graph shows that customers who churned had higher average monthly charges than customers who did not churn. The fourth graph shows a bar chart of the average monthly charges for customers who churned vs. those who did not churn, broken down by gender. This graph shows that the churn rate is higher for males than for females, and that the average monthly charges are higher for males than for females. The fifth graph shows a bar chart of the average monthly charges for customers who churned vs. those who did not churn, broken down by age group. This graph shows that the churn rate is higher for younger customers than for older customers, and that the average monthly charges are higher for younger customers than for older customers. The sixth graph shows a bar chart of the average monthly charges for customers who churned vs. those who did not churn, broken down by contract type. This graph shows that the churn rate is higher for customers with month-to-month contracts than for customers with annual contracts, and that the average monthly charges are higher for customers with month-to-month contracts than for customers with annual contracts. The seventh graph shows a bar chart of the average monthly charges for customers who churned vs. those who did not churn, broken down by payment method. This graph shows that the churn rate is higher for customers who pay by credit card than for customers who pay by other methods, and that the average monthly charges are higher for customers who pay by credit card than for customers who pay by other methods. The eighth graph shows a bar chart of the average monthly charges for customers who churned vs. those who did not churn, broken down by tech support calls. This graph shows that the churn rate is higher for customers who make more tech support calls, and that the average monthly charges are higher for customers who make more tech support calls. The ninth graph shows a bar chart of the average monthly charges for customers who churned vs. those who did not churn, broken down by streaming services. This graph shows that the churn rate is higher for customers who subscribe to more streaming services, and that the average monthly charges are higher for customers who subscribe to more streaming services. The tenth graph shows a bar chart of the average monthly charges for customers who churned vs. those who did not churn, broken down by device protection. This graph shows that the churn rate is higher for customers who have device protection, and that the average monthly charges are higher for customers who have device protection. The eleventh graph shows a bar chart of the average monthly charges for customers who churned vs. those who did not churn, broken down by online security. This graph shows that the churn rate is higher for customers who have online security, and that the average monthly charges are higher for customers who have online security. The twelfth graph shows a bar chart of the average monthly charges for customers who churned vs. those who did not churn, broken down by online backup. This graph shows that the churn rate is higher for customers who have online backup, and that the average monthly charges are higher for customers who have online backup. The thirteenth graph shows a bar chart of the average monthly charges for customers who churned vs. those who did not churn, broken down by total charges. This graph shows that the churn rate is higher for customers with higher total charges, and that the average monthly charges are higher for customers with higher total charges.]\n"
     ]
    },
    {
     "name": "stdout",
     "output_type": "stream",
     "text": [
      "[2023-12-22 01:51:15,461: INFO: migration: Context impl SQLiteImpl.]\n",
      "[2023-12-22 01:51:15,461: INFO: migration: Will assume non-transactional DDL.]\n",
      "[2023-12-22 01:51:15,468: INFO: sqlalchemy_db: ✅ feedback result positive_sentiment DONE feedback_result_hash_b90451da18f803a8be99b1eb550f2851]\n"
     ]
    }
   ],
   "source": [
    "try:\n",
    "    config = ConfigurationManager()\n",
    "    prompting_config = config.get_promting_config()\n",
    "    prompting_config = Prompting(config=prompting_config)\n",
    "    prompting_config.get_response()\n",
    "except Exception as e:\n",
    "    raise e"
   ]
  },
  {
   "cell_type": "code",
   "execution_count": null,
   "metadata": {},
   "outputs": [],
   "source": []
  },
  {
   "cell_type": "code",
   "execution_count": null,
   "metadata": {},
   "outputs": [],
   "source": []
  }
 ],
 "metadata": {
  "kernelspec": {
   "display_name": "hola",
   "language": "python",
   "name": "python3"
  },
  "language_info": {
   "codemirror_mode": {
    "name": "ipython",
    "version": 3
   },
   "file_extension": ".py",
   "mimetype": "text/x-python",
   "name": "python",
   "nbconvert_exporter": "python",
   "pygments_lexer": "ipython3",
   "version": "3.11.5"
  }
 },
 "nbformat": 4,
 "nbformat_minor": 2
}
