{
 "cells": [
  {
   "cell_type": "code",
   "execution_count": null,
   "metadata": {},
   "outputs": [],
   "source": []
  },
  {
   "cell_type": "code",
   "execution_count": 1,
   "metadata": {},
   "outputs": [],
   "source": [
    "from google.cloud import aiplatform"
   ]
  },
  {
   "cell_type": "code",
   "execution_count": 2,
   "metadata": {},
   "outputs": [],
   "source": [
    "aiplatform.init(\n",
    "    project = \"ultra-heading-407815\",\n",
    "    location=\"us-central1\"\n",
    ")"
   ]
  },
  {
   "cell_type": "code",
   "execution_count": 3,
   "metadata": {},
   "outputs": [],
   "source": [
    "import os\n",
    "os.environ[\"GOOGLE_APPLICATION_CREDENTIALS\"] = \"ultra-heading-407815-cb6f1a8f9ee7.json\""
   ]
  },
  {
   "cell_type": "code",
   "execution_count": 15,
   "metadata": {},
   "outputs": [],
   "source": [
    "import base64\n",
    "import vertexai\n",
    "from vertexai.preview.generative_models import GenerativeModel, Part\n",
    "\n",
    "def generate():\n",
    "  model = GenerativeModel(\"gemini-pro-vision\")\n",
    "  responses = model.generate_content(\n",
    "    [\"\"\"give everything in this image\"\"\", image1],\n",
    "    generation_config={\n",
    "        \"max_output_tokens\": 2048,\n",
    "        \"temperature\": 0.4,\n",
    "        \"top_p\": 1,\n",
    "        \"top_k\": 32\n",
    "    },\n",
    "    )\n",
    "  \n",
    "  print(responses.text)"
   ]
  },
  {
   "cell_type": "code",
   "execution_count": 16,
   "metadata": {},
   "outputs": [
    {
     "name": "stdout",
     "output_type": "stream",
     "text": [
      " The image shows the distribution of customers, products, and sales in a retail store. The data is normalized, so the values are between 0 and 1.\n",
      "\n",
      "The first row of graphs shows the distribution of customers by customer type and gender. The majority of customers are normal customers, and the majority of customers are male.\n",
      "\n",
      "The second row of graphs shows the distribution of sales by branch and city. The majority of sales are made in branch A, and the majority of sales are made in Mandalay.\n",
      "\n",
      "The third row of graphs shows the distribution of sales by product line and payment type. The majority of sales are made in the fashion category, and the majority of sales are made with cash.\n",
      "\n",
      "The fourth row of graphs shows the distribution of sales by date and quantity. The majority of sales are made on the 25th of the month, and the majority of sales are for a quantity of 1.\n"
     ]
    }
   ],
   "source": [
    "file = './research/Rating/Dist_Plots_Cats.jpg'\n",
    "image = open(file, 'rb')\n",
    "image_read = image.read()\n",
    "image_64_encode = base64.encodebytes(image_read)\n",
    "image1 = Part.from_data(base64.b64decode(image_64_encode), mime_type=\"image/jpeg\")\n",
    "generate()"
   ]
  },
  {
   "cell_type": "code",
   "execution_count": null,
   "metadata": {},
   "outputs": [],
   "source": []
  },
  {
   "cell_type": "code",
   "execution_count": 8,
   "metadata": {},
   "outputs": [
    {
     "data": {
      "text/plain": [
       "PIL.JpegImagePlugin.JpegImageFile"
      ]
     },
     "execution_count": 8,
     "metadata": {},
     "output_type": "execute_result"
    }
   ],
   "source": [
    "import PIL.Image\n",
    "image1  = PIL.Image.open(\"./research/Rating/Bar_Plots.jpg\")\n",
    "type(image1)"
   ]
  },
  {
   "cell_type": "code",
   "execution_count": null,
   "metadata": {},
   "outputs": [],
   "source": []
  }
 ],
 "metadata": {
  "kernelspec": {
   "display_name": "hackathon",
   "language": "python",
   "name": "python3"
  },
  "language_info": {
   "codemirror_mode": {
    "name": "ipython",
    "version": 3
   },
   "file_extension": ".py",
   "mimetype": "text/x-python",
   "name": "python",
   "nbconvert_exporter": "python",
   "pygments_lexer": "ipython3",
   "version": "3.11.5"
  }
 },
 "nbformat": 4,
 "nbformat_minor": 2
}
